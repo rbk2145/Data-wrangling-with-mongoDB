{
 "cells": [
  {
   "cell_type": "raw",
   "metadata": {},
   "source": [
    "\"\"\"\n",
    "here task is to check the \"productionStartYear\" of the DBPedia autos datafile for valid values.\n",
    "The following things should be done:\n",
    "- check if the field \"productionStartYear\" contains a year\n",
    "- check if the year is in range 1886-2014\n",
    "- convert the value of the field to be just a year (not full datetime)\n",
    "- the rest of the fields and values should stay the same\n",
    "- if the value of the field is a valid year in the range as described above,\n",
    "  write that line to the output_good file\n",
    "- if the value of the field is not a valid year as described above, \n",
    "  write that line to the output_bad file\n",
    "- discard rows (neither write to good nor bad) if the URI is not from dbpedia.org\n",
    "- you should use the provided way of reading and writing data (DictReader and DictWriter)\n",
    "  They will take care of dealing with the header.\n",
    "\n",
    "we can write helper functions for checking the data and writing the files, but we will call only the \n",
    "'process_file' with 3 arguments (inputfile, output_good, output_bad)."
   ]
  },
  {
   "cell_type": "code",
   "execution_count": 1,
   "metadata": {},
   "outputs": [],
   "source": [
    "import csv\n",
    "\n",
    "INPUT_FILE = '01_data_correcting_validity.csv'\n",
    "OUTPUT_GOOD = '01_autos-valid.csv'\n",
    "OUTPUT_BAD = '01_FIXME-autos.csv'"
   ]
  },
  {
   "cell_type": "code",
   "execution_count": 2,
   "metadata": {},
   "outputs": [],
   "source": [
    "def process_file(input_file, output_good, output_bad):\n",
    "\n",
    "    with open(input_file, \"r\") as f, open(output_good, \"w\") as og, open(output_bad, \"w\") as ob:\n",
    "        reader = csv.DictReader(f)\n",
    "        header = reader.fieldnames\n",
    "        \n",
    "        goodWriter = csv.DictWriter(og, delimiter=\",\", fieldnames=header)\n",
    "        goodWriter.writeheader()\n",
    "\n",
    "        badWriter = csv.DictWriter(ob, delimiter=\",\", fieldnames=header)\n",
    "        badWriter.writeheader()\n",
    "        \n",
    "         # This is just an example on how you can use csv.DictWriter\n",
    "         # Remember that you have to output 2 files\n",
    "\n",
    "        for line in reader:\n",
    "            if line['URI'].find('dbpedia.org') != -1:\n",
    "                try:\n",
    "                    line['productionStartYear'] = int(line['productionStartYear'][:4])\n",
    "                    if line['productionStartYear'] in range(1886, 2015):\n",
    "                        goodWriter.writerow(line)\n",
    "                    else:\n",
    "                        badWriter.writerow(line)\n",
    "                except ValueError:\n",
    "                    badWriter.writerow(line)"
   ]
  },
  {
   "cell_type": "code",
   "execution_count": 3,
   "metadata": {},
   "outputs": [],
   "source": [
    "def test():\n",
    "\n",
    "    process_file(INPUT_FILE, OUTPUT_GOOD, OUTPUT_BAD)\n",
    "\n",
    "\n",
    "if __name__ == \"__main__\":\n",
    "    test()"
   ]
  },
  {
   "cell_type": "code",
   "execution_count": null,
   "metadata": {},
   "outputs": [],
   "source": []
  }
 ],
 "metadata": {
  "kernelspec": {
   "display_name": "Python 3",
   "language": "python",
   "name": "python3"
  },
  "language_info": {
   "codemirror_mode": {
    "name": "ipython",
    "version": 3
   },
   "file_extension": ".py",
   "mimetype": "text/x-python",
   "name": "python",
   "nbconvert_exporter": "python",
   "pygments_lexer": "ipython3",
   "version": "3.6.3"
  }
 },
 "nbformat": 4,
 "nbformat_minor": 2
}
